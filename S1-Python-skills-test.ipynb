{
 "cells": [
  {
   "cell_type": "markdown",
   "metadata": {},
   "source": [
    "## Basic level -- Python "
   ]
  },
  {
   "cell_type": "code",
   "execution_count": 1,
   "metadata": {},
   "outputs": [
    {
     "name": "stdout",
     "output_type": "stream",
     "text": [
      "\n",
      "Python Version sys.version_info(major=3, minor=8, micro=3, releaselevel='final', serial=0)\n"
     ]
    }
   ],
   "source": [
    "import  sys\n",
    "print(\"\\nPython Version {}\".format(sys.version_info))"
   ]
  },
  {
   "cell_type": "code",
   "execution_count": 2,
   "metadata": {},
   "outputs": [],
   "source": [
    "amt_desc = 'My earnings per month is Rs.250000'"
   ]
  },
  {
   "cell_type": "markdown",
   "metadata": {},
   "source": [
    "1. Write a code in Python to get the amount alone from the above string:"
   ]
  },
  {
   "cell_type": "code",
   "execution_count": 3,
   "metadata": {},
   "outputs": [
    {
     "name": "stdout",
     "output_type": "stream",
     "text": [
      "<class 'str'>\n",
      "\n",
      "Numeric portion of the amt_des is 250000\n"
     ]
    }
   ],
   "source": [
    "amt_num = amt_desc.split('.')[1]\n",
    "print(type(amt_num))\n",
    "print(\"\\nNumeric portion of the amt_des is %s\" % amt_num)"
   ]
  },
  {
   "cell_type": "markdown",
   "metadata": {},
   "source": [
    "Please see the code snippet given below and answer the questions"
   ]
  },
  {
   "cell_type": "code",
   "execution_count": 4,
   "metadata": {},
   "outputs": [
    {
     "name": "stdout",
     "output_type": "stream",
     "text": [
      "\n",
      "Two lists are not identical.\n",
      "['a', [1, 2, 3, 4, 5], 'z', 0] ['a', [1, 9, 3, 4, 5], 'z', 0]\n"
     ]
    }
   ],
   "source": [
    "import copy\n",
    "\n",
    "list1             =  ['a', [1, 2, 3, 4, 5], 'z', 0]\n",
    "list1_copy        =  copy.deepcopy(list1)\n",
    "list1_copy[1][1]  =  9\n",
    "\n",
    "if  list1         == list1_copy:\n",
    "    print(\"\\nTwo lists are identical\")\n",
    "else:\n",
    "    print(\"\\nTwo lists are not identical.\")    \n",
    "\n",
    "print(list1, list1_copy)"
   ]
  },
  {
   "cell_type": "markdown",
   "metadata": {},
   "source": [
    "2. Write the output from the above code snippet"
   ]
  },
  {
   "cell_type": "markdown",
   "metadata": {},
   "source": [
    "B. Please see the code snippet given below and answer the questions:"
   ]
  },
  {
   "cell_type": "code",
   "execution_count": 5,
   "metadata": {},
   "outputs": [],
   "source": [
    "import      random, string\n",
    "\n",
    "First_name  =  ['Arya','Isha','Praveen','Gina','Dhanis','Deepti','Durvik','Aslesha',\\\n",
    "                'Durvik','Saranya']\n",
    "Last_name   =  []\n",
    "Age         =  []\n",
    "Gender      =  []\n",
    "Income      =  []\n",
    "\n",
    "for i in range (10):\n",
    "    Last_name.append(random.choice(random.choice(string.ascii_uppercase)))\n",
    "    Age.append(str(random.choice(list(range(21, 66)))))\n",
    "    Gender.append(random.choice(['M', 'F']))\n",
    "    Income.append(str(round(float(random.random()) * 100000,0)))"
   ]
  },
  {
   "cell_type": "markdown",
   "metadata": {},
   "source": [
    "3) Create a dictionary, my_dict in Python using the lists, First_name, Last_name, Age, Gender and Income."
   ]
  },
  {
   "cell_type": "code",
   "execution_count": 6,
   "metadata": {},
   "outputs": [
    {
     "name": "stdout",
     "output_type": "stream",
     "text": [
      "<class 'dict'>\n"
     ]
    }
   ],
   "source": [
    "my_dict     =  {'First Name' : First_name, 'Last_name' : Last_name, 'Age' : Age, 'Gender' : Gender, 'Income' : Income}\n",
    "print(type(my_dict))"
   ]
  },
  {
   "cell_type": "markdown",
   "metadata": {},
   "source": [
    "4) How do you get the keys of this dictionary, my_dict?"
   ]
  },
  {
   "cell_type": "code",
   "execution_count": 7,
   "metadata": {},
   "outputs": [
    {
     "name": "stdout",
     "output_type": "stream",
     "text": [
      "\n",
      "Dictionary Keys dict_keys(['First Name', 'Last_name', 'Age', 'Gender', 'Income'])\n"
     ]
    }
   ],
   "source": [
    "print(\"\\nDictionary Keys {}\".format(my_dict.keys()))"
   ]
  },
  {
   "cell_type": "markdown",
   "metadata": {},
   "source": [
    "5) Create a data frame, my_df using the dictionary, my_dict"
   ]
  },
  {
   "cell_type": "code",
   "execution_count": 8,
   "metadata": {},
   "outputs": [
    {
     "name": "stdout",
     "output_type": "stream",
     "text": [
      "<class 'pandas.core.frame.DataFrame'>\n",
      "RangeIndex: 10 entries, 0 to 9\n",
      "Data columns (total 5 columns):\n",
      " #   Column      Non-Null Count  Dtype \n",
      "---  ------      --------------  ----- \n",
      " 0   First Name  10 non-null     object\n",
      " 1   Last_name   10 non-null     object\n",
      " 2   Age         10 non-null     object\n",
      " 3   Gender      10 non-null     object\n",
      " 4   Income      10 non-null     object\n",
      "dtypes: object(5)\n",
      "memory usage: 528.0+ bytes\n",
      "None\n"
     ]
    }
   ],
   "source": [
    "import   pandas    as    pd\n",
    "my_df  =  pd.DataFrame(my_dict)\n",
    "print(my_df.info())"
   ]
  },
  {
   "cell_type": "markdown",
   "metadata": {},
   "source": [
    "6) Convert Age and Income to numeric variables"
   ]
  },
  {
   "cell_type": "code",
   "execution_count": 9,
   "metadata": {},
   "outputs": [
    {
     "name": "stdout",
     "output_type": "stream",
     "text": [
      "<class 'pandas.core.frame.DataFrame'>\n",
      "RangeIndex: 10 entries, 0 to 9\n",
      "Data columns (total 5 columns):\n",
      " #   Column      Non-Null Count  Dtype  \n",
      "---  ------      --------------  -----  \n",
      " 0   First Name  10 non-null     object \n",
      " 1   Last_name   10 non-null     object \n",
      " 2   Age         10 non-null     int64  \n",
      " 3   Gender      10 non-null     object \n",
      " 4   Income      10 non-null     float64\n",
      "dtypes: float64(1), int64(1), object(3)\n",
      "memory usage: 528.0+ bytes\n",
      "None\n"
     ]
    }
   ],
   "source": [
    "my_df.Age     =   my_df.Age.astype('int64') \n",
    "my_df.Income  =   my_df.Income.astype('float')\n",
    "print(my_df.info())"
   ]
  },
  {
   "cell_type": "markdown",
   "metadata": {},
   "source": [
    "7) Create a csv file from Pandas dataframe, my_df and omit index values"
   ]
  },
  {
   "cell_type": "code",
   "execution_count": 10,
   "metadata": {},
   "outputs": [],
   "source": [
    "my_df.to_csv('my_df.csv', index = False)"
   ]
  },
  {
   "cell_type": "markdown",
   "metadata": {},
   "source": [
    "8) Draw boxplot for Income grouped by Gender, a categorical variable using seaborn"
   ]
  },
  {
   "cell_type": "code",
   "execution_count": 11,
   "metadata": {},
   "outputs": [
    {
     "data": {
      "image/png": "[encoded data removed]",
      "text/plain": [
       "<Figure size 432x288 with 1 Axes>"
      ]
     },
     "metadata": {
      "needs_background": "light"
     },
     "output_type": "display_data"
    }
   ],
   "source": [
    "import  seaborn           as  sns\n",
    "import  matplotlib.pyplot as  plt\n",
    "\n",
    "sns.boxplot(x = 'Gender', y = 'Income', data = my_df)\n",
    "plt.title(\"Gender Vs Income \\n\")\n",
    "plt.show()"
   ]
  }
 ],
 "metadata": {
  "kernelspec": {
   "display_name": "Python 3",
   "language": "python",
   "name": "python3"
  },
  "language_info": {
   "codemirror_mode": {
    "name": "ipython",
    "version": 3
   },
   "file_extension": ".py",
   "mimetype": "text/x-python",
   "name": "python",
   "nbconvert_exporter": "python",
   "pygments_lexer": "ipython3",
   "version": "3.8.3"
  }
 },
 "nbformat": 4,
 "nbformat_minor": 4
}
